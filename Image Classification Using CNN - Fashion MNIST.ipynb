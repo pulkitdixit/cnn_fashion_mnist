{
 "cells": [
  {
   "cell_type": "markdown",
   "metadata": {},
   "source": [
    "## Image Classification Using CNN - Fashion MNIST"
   ]
  },
  {
   "cell_type": "markdown",
   "metadata": {},
   "source": [
    "**Dataset chosen: Fashion MNIST**\n",
    "\n",
    "This dataset has 60000 training set images and 10000 test set images. This images are clothing images, and the purpose of the dataset is to classify the images into ten classes. These classes are:\n",
    "\n",
    "* 0 -> 0 T-shirt/top\n",
    "* 1 -> Trouser\n",
    "* 2 -> Pullover\n",
    "* 3 -> Dress\n",
    "* 4 -> Coat\n",
    "* 5 -> Sandal\n",
    "* 6 -> Shirt\n",
    "* 7 -> Sneaker\n",
    "* 8 -> Bag\n",
    "* 9 -> Ankle boot "
   ]
  },
  {
   "cell_type": "markdown",
   "metadata": {},
   "source": [
    "Importing required libaries:"
   ]
  },
  {
   "cell_type": "code",
   "execution_count": 1,
   "metadata": {},
   "outputs": [
    {
     "name": "stderr",
     "output_type": "stream",
     "text": [
      "Using TensorFlow backend.\n"
     ]
    }
   ],
   "source": [
    "import numpy as np\n",
    "import matplotlib.pyplot as plt\n",
    "import keras\n",
    "from keras import backend as K\n",
    "import os\n",
    "import tensorflow as tf\n",
    "from keras.datasets import fashion_mnist\n",
    "from keras.models import Sequential, load_model\n",
    "from keras.layers import Dense, Dropout, Flatten\n",
    "from keras.layers import InputLayer, Conv2D, MaxPooling2D\n",
    "from keras.optimizers import Adam\n",
    "from keras.callbacks import TensorBoard\n",
    "from skopt import gp_minimize, dump, load\n",
    "from skopt.space import Real, Integer\n",
    "from skopt.plots import plot_convergence\n",
    "from skopt.utils import use_named_args"
   ]
  },
  {
   "cell_type": "markdown",
   "metadata": {},
   "source": [
    "Checking versions of Keras and Tensorflow:"
   ]
  },
  {
   "cell_type": "code",
   "execution_count": 2,
   "metadata": {},
   "outputs": [
    {
     "data": {
      "text/plain": [
       "'2.1.6'"
      ]
     },
     "execution_count": 2,
     "metadata": {},
     "output_type": "execute_result"
    }
   ],
   "source": [
    "#Keras version:\n",
    "keras.__version__"
   ]
  },
  {
   "cell_type": "code",
   "execution_count": 3,
   "metadata": {
    "scrolled": true
   },
   "outputs": [
    {
     "data": {
      "text/plain": [
       "'1.10.0'"
      ]
     },
     "execution_count": 3,
     "metadata": {},
     "output_type": "execute_result"
    }
   ],
   "source": [
    "#Tensorflow version:\n",
    "tf.__version__"
   ]
  },
  {
   "cell_type": "markdown",
   "metadata": {},
   "source": [
    "Importing the Fashion MNIST data from keras.datasets:"
   ]
  },
  {
   "cell_type": "code",
   "execution_count": 4,
   "metadata": {
    "scrolled": true
   },
   "outputs": [],
   "source": [
    "#X_train -> predictor variables for training set\n",
    "#X_test -> predictor variables for test set\n",
    "#y_train -> responses for training set\n",
    "#y_test -> predictions for test set\n",
    "\n",
    "(X_train, y_train), (X_test, y_test) = fashion_mnist.load_data()"
   ]
  },
  {
   "cell_type": "markdown",
   "metadata": {},
   "source": [
    "The **data types** of X_train, X_test, y_train and y_test are:"
   ]
  },
  {
   "cell_type": "code",
   "execution_count": 5,
   "metadata": {},
   "outputs": [
    {
     "name": "stdout",
     "output_type": "stream",
     "text": [
      "Data type of X_train:  <class 'numpy.ndarray'>\n",
      "Data type of y_train:  <class 'numpy.ndarray'>\n",
      "Data type of X_test:  <class 'numpy.ndarray'>\n",
      "Data type of y_test:  <class 'numpy.ndarray'>\n"
     ]
    }
   ],
   "source": [
    "print('Data type of X_train: ' , type(X_train))\n",
    "print('Data type of y_train: ' , type(y_train))\n",
    "print('Data type of X_test: ' , type(X_test))\n",
    "print('Data type of y_test: ' , type(y_test))"
   ]
  },
  {
   "cell_type": "markdown",
   "metadata": {},
   "source": [
    "It can be seen that the training and testing response and predictor variables are numpy arrays.\n",
    "\n",
    "The **dimensions of the images (in pixels)** in the training and testing set are:"
   ]
  },
  {
   "cell_type": "code",
   "execution_count": 6,
   "metadata": {},
   "outputs": [
    {
     "name": "stdout",
     "output_type": "stream",
     "text": [
      "Dimensions of images in the training set:  28 x 28\n",
      "Dimensions of images in the testing set:  28 x 28\n"
     ]
    }
   ],
   "source": [
    "print('Dimensions of images in the training set: ' , X_train.shape[1] , 'x' , X_train.shape[2])\n",
    "print('Dimensions of images in the testing set: ' , X_test.shape[1] , 'x' , X_test.shape[2])"
   ]
  },
  {
   "cell_type": "markdown",
   "metadata": {},
   "source": [
    "Saving the number of rows and columns for an image into variables:"
   ]
  },
  {
   "cell_type": "code",
   "execution_count": 7,
   "metadata": {},
   "outputs": [],
   "source": [
    "image_row_number = X_train.shape[1]\n",
    "image_col_number = X_train.shape[2]"
   ]
  },
  {
   "cell_type": "markdown",
   "metadata": {},
   "source": [
    "Checking for the **number of channels** in an image:"
   ]
  },
  {
   "cell_type": "code",
   "execution_count": 8,
   "metadata": {},
   "outputs": [
    {
     "name": "stdout",
     "output_type": "stream",
     "text": [
      "(28, 28)\n"
     ]
    }
   ],
   "source": [
    "print(X_train[1,:,:].shape)"
   ]
  },
  {
   "cell_type": "markdown",
   "metadata": {},
   "source": [
    "Since the above code returned a 2x2 array, **each image in the training set has 1 channel**. The next step is to convert the given data into a format that Tensorflow can work with:"
   ]
  },
  {
   "cell_type": "code",
   "execution_count": 9,
   "metadata": {},
   "outputs": [
    {
     "name": "stdout",
     "output_type": "stream",
     "text": [
      "The new shape of X_train is:  (60000, 28, 28, 1)\n"
     ]
    }
   ],
   "source": [
    "if K.image_data_format() == 'channels_first':\n",
    "    X_train = X_train.reshape(X_train.shape[0], 1, image_row_number, image_col_number)\n",
    "    X_test = X_test.reshape(X_test.shape[0], 1, image_row_number, image_col_number)\n",
    "else: # for Tensorflow, the format is [N_image, image_row, image_col, channel]\n",
    "    X_train = X_train.reshape(X_train.shape[0], image_row_number, image_col_number, 1)\n",
    "    X_test = X_test.reshape(X_test.shape[0], image_row_number, image_col_number, 1)\n",
    "\n",
    "print('The new shape of X_train is: ', X_train.shape)"
   ]
  },
  {
   "cell_type": "markdown",
   "metadata": {},
   "source": [
    "The **maximum depth of pixels** in the rows and columns for the training and test sets:"
   ]
  },
  {
   "cell_type": "code",
   "execution_count": 10,
   "metadata": {},
   "outputs": [
    {
     "name": "stdout",
     "output_type": "stream",
     "text": [
      "Training set rows:  [[255]\n",
      " [255]\n",
      " [255]\n",
      " ...\n",
      " [255]\n",
      " [255]\n",
      " [255]]\n",
      "Test set rows:  [[255]\n",
      " [255]\n",
      " [255]\n",
      " ...\n",
      " [255]\n",
      " [255]\n",
      " [254]]\n",
      "Training set rows:  [[255]\n",
      " [255]\n",
      " [255]\n",
      " ...\n",
      " [255]\n",
      " [255]\n",
      " [255]]\n",
      "Test set rows:  [[255]\n",
      " [255]\n",
      " [255]\n",
      " ...\n",
      " [255]\n",
      " [255]\n",
      " [254]]\n"
     ]
    }
   ],
   "source": [
    "pixel_count_rows_train = np.amax(X_train, axis = 1)\n",
    "print('Training set rows: ', np.amax(pixel_count_rows_train, axis = 1))\n",
    "\n",
    "pixel_count_rows_test = np.amax(X_test, axis = 1)\n",
    "print('Test set rows: ', np.amax(pixel_count_rows_test, axis = 1))\n",
    "\n",
    "pixel_count_cols_train = np.amax(X_train, axis = 2)\n",
    "print('Training set rows: ', np.amax(pixel_count_cols_train, axis = 1))\n",
    "\n",
    "pixel_count_cols_test = np.amax(X_test, axis = 2)\n",
    "print('Test set rows: ', np.amax(pixel_count_cols_test, axis = 1))"
   ]
  },
  {
   "cell_type": "markdown",
   "metadata": {},
   "source": [
    "Normalizing the data in both the training and testing sets:"
   ]
  },
  {
   "cell_type": "code",
   "execution_count": 11,
   "metadata": {},
   "outputs": [],
   "source": [
    "X_train = X_train.astype('float32')\n",
    "X_test = X_test.astype('float32')\n",
    "X_train /= 255\n",
    "X_test /= 255"
   ]
  },
  {
   "cell_type": "markdown",
   "metadata": {},
   "source": [
    "Using 5000 samples from the training set as a validation set:"
   ]
  },
  {
   "cell_type": "code",
   "execution_count": 12,
   "metadata": {},
   "outputs": [],
   "source": [
    "X_train, X_val = X_train[0:55000,:,:,:], X_train[-5000:,:,:,:]\n",
    "y_train, y_val = y_train[0:55000], y_train[-5000:]"
   ]
  },
  {
   "cell_type": "markdown",
   "metadata": {},
   "source": [
    "Thus, the **number of samples in each of the training, validation and test sets** are:"
   ]
  },
  {
   "cell_type": "code",
   "execution_count": 13,
   "metadata": {},
   "outputs": [
    {
     "name": "stdout",
     "output_type": "stream",
     "text": [
      "Training set:  55000\n",
      "Validation set:  5000\n",
      "Test set:  10000\n"
     ]
    }
   ],
   "source": [
    "print('Training set: ', X_train.shape[0])\n",
    "print('Validation set: ', X_val.shape[0])\n",
    "print('Test set: ', X_test.shape[0])"
   ]
  },
  {
   "cell_type": "markdown",
   "metadata": {},
   "source": [
    "The **data type for the response variables** are:"
   ]
  },
  {
   "cell_type": "code",
   "execution_count": 14,
   "metadata": {},
   "outputs": [
    {
     "name": "stdout",
     "output_type": "stream",
     "text": [
      "Data type of response variables in the training set:  uint8\n",
      "Data type of response variables in the validation set:  uint8\n",
      "Data type of response variables in the test set:  uint8\n"
     ]
    }
   ],
   "source": [
    "print('Data type of response variables in the training set: ', y_train.dtype)\n",
    "print('Data type of response variables in the validation set: ', y_val.dtype)\n",
    "print('Data type of response variables in the test set: ', y_test.dtype)"
   ]
  },
  {
   "cell_type": "markdown",
   "metadata": {},
   "source": [
    "The response variables in both are integers. The distinct values for both sets are:"
   ]
  },
  {
   "cell_type": "code",
   "execution_count": 15,
   "metadata": {},
   "outputs": [
    {
     "name": "stdout",
     "output_type": "stream",
     "text": [
      "Distinct values for the training set response variables:  [0 1 2 3 4 5 6 7 8 9]\n",
      "Distinct values for the validation set response variables:  [0 1 2 3 4 5 6 7 8 9]\n",
      "Distinct values for the test set response variables:  [0 1 2 3 4 5 6 7 8 9]\n"
     ]
    }
   ],
   "source": [
    "print('Distinct values for the training set response variables: ', np.unique(y_train))\n",
    "print('Distinct values for the validation set response variables: ', np.unique(y_val))\n",
    "print('Distinct values for the test set response variables: ', np.unique(y_test))"
   ]
  },
  {
   "cell_type": "markdown",
   "metadata": {},
   "source": [
    "It can be seen from the above output that both sets have the same number of unique values, and that the test set does not have any values that are not present in the training set."
   ]
  },
  {
   "cell_type": "markdown",
   "metadata": {},
   "source": [
    "Creating a variable to store the **number of unique values (classes)** in the sets:"
   ]
  },
  {
   "cell_type": "code",
   "execution_count": 16,
   "metadata": {},
   "outputs": [
    {
     "name": "stdout",
     "output_type": "stream",
     "text": [
      "The number of categories/classes are:  10\n"
     ]
    }
   ],
   "source": [
    "count_classes = len(np.unique(y_train))\n",
    "print('The number of categories/classes are: ', count_classes)"
   ]
  },
  {
   "cell_type": "markdown",
   "metadata": {},
   "source": [
    "In order to be able to classify the images, the response variables need to be converted into categorical variables. This is done in the code below:"
   ]
  },
  {
   "cell_type": "code",
   "execution_count": 17,
   "metadata": {},
   "outputs": [],
   "source": [
    "y_train_vec = y_train\n",
    "y_test_vec = y_test\n",
    "y_val_vec = y_val\n",
    "y_train = keras.utils.to_categorical(y_train, count_classes)\n",
    "y_test = keras.utils.to_categorical(y_test, count_classes)\n",
    "y_val = keras.utils.to_categorical(y_val, count_classes)"
   ]
  },
  {
   "cell_type": "markdown",
   "metadata": {},
   "source": [
    "================================================================================================"
   ]
  },
  {
   "cell_type": "markdown",
   "metadata": {},
   "source": [
    "Creating a function to display the images:"
   ]
  },
  {
   "cell_type": "code",
   "execution_count": 18,
   "metadata": {},
   "outputs": [],
   "source": [
    "#The below function plots the first 9 images for the array passed to it. \n",
    "#It also displays the label of each image, which is also passed as a parameter.\n",
    "#It has an optional third parameter for predicted class, \n",
    "#which can be used to display the predicted class for each image as well.\n",
    "\n",
    "def plot_images(images, label, pred=None):\n",
    "    if pred is None: #For a case where no prediction data is passed to the function.\n",
    "        try:\n",
    "            #Checking if the number of images matches the number of labels.\n",
    "            assert images.shape[0] == len(label) == 9\n",
    "        except AssertionError:\n",
    "            #If there's no error, initialize variables to have \n",
    "            #the first 9 rows of each inputted parameter.\n",
    "            images = images[0:9,:,:,:]\n",
    "            label = label[0:9]\n",
    "            print('Select the first 9 images')\n",
    "    else: #For the case when predictions are also passed to the function.\n",
    "        try:\n",
    "            #Checking if the total number of images matches \n",
    "            #the total number of labels and predictions.\n",
    "            assert images.shape[0] == len(label) == len(pred) == 9\n",
    "        except AssertionError:\n",
    "            #If there's no error, initialize variables to have \n",
    "            #the first 9 rows of each inputted parameter.\n",
    "            images = images[0:9,:,:,:]\n",
    "            label = label[0:9]\n",
    "            pred = pred[0:9]\n",
    "            print('Select the first 9 images')\n",
    "            \n",
    "    fig, axes = plt.subplots(3,3) #Creates a 3x3 grid to display the 9 images.\n",
    "    for i, ax in enumerate(axes.flat):\n",
    "        #Display each image by plotting the row and column \n",
    "        #pixels for the image number in the loop.\n",
    "        ax.imshow(images[i].reshape([image_row_number, \n",
    "                                     image_col_number]), \n",
    "                  cmap='binary') #Displays images in black and white.\n",
    "        #Setting class for the image as a label.\n",
    "        if pred is None:\n",
    "            xlabel = \"True: %d\" % label[i]\n",
    "        else:\n",
    "            xlabel = \"True: %d, Pred: %d\" % (label[i], pred[i])\n",
    "        ax.set_xlabel(xlabel)\n",
    "        #Set the label on the x-axis.\n",
    "        ax.set_xlabel(xlabel)\n",
    "        \n",
    "        #Remove ticks from the plot.\n",
    "        ax.set_xticks([])\n",
    "        ax.set_yticks([])   \n",
    "    plt.show()"
   ]
  },
  {
   "cell_type": "markdown",
   "metadata": {},
   "source": [
    "Plotting the first 9 images:"
   ]
  },
  {
   "cell_type": "code",
   "execution_count": 19,
   "metadata": {},
   "outputs": [
    {
     "name": "stdout",
     "output_type": "stream",
     "text": [
      "Select the first 9 images\n"
     ]
    },
    {
     "data": {
      "image/png": "[encoded data removed]",
      "text/plain": [
       "<Figure size 432x288 with 9 Axes>"
      ]
     },
     "metadata": {},
     "output_type": "display_data"
    }
   ],
   "source": [
    "plot_images(X_train, y_train_vec)"
   ]
  },
  {
   "cell_type": "markdown",
   "metadata": {},
   "source": [
    "================================================================================================"
   ]
  },
  {
   "cell_type": "markdown",
   "metadata": {},
   "source": [
    "Creating a CNN with the following features:\n",
    "\n",
    "* 1 input layer with two kernels of size 3 each.\n",
    "* 1 fully connected layer with 25088 neurons.\n",
    "* 2 dense layers with 128 and 10 (# of classes) kernels respectively.\n",
    "* Adam compiler\n",
    "* Learning Rate = 1e-4\n",
    "* Batch size = 32\n",
    "* Epoches = 3"
   ]
  },
  {
   "cell_type": "code",
   "execution_count": 22,
   "metadata": {},
   "outputs": [],
   "source": [
    "learn_rate = 1e-4\n",
    "\n",
    "#Initializing the model.\n",
    "model_2layer = Sequential()\n",
    "\n",
    "#Adding an input layer.\n",
    "model_2layer.add(InputLayer(input_shape=(image_row_number, image_col_number, 1, )))\n",
    "\n",
    "#Adding the first layer.\n",
    "model_2layer.add(Conv2D(16, kernel_size=3,\n",
    "                 activation='relu',\n",
    "                 padding='same',\n",
    "                 name = 'layer_conv_1'))\n",
    "\n",
    "#Adding the second layer.\n",
    "model_2layer.add(Conv2D(32, kernel_size=5,\n",
    "                 activation='relu',\n",
    "                 padding='same',\n",
    "                 name = 'layer_conv_2'))\n",
    "model_2layer.add(MaxPooling2D(pool_size=(2, 2)))\n",
    "\n",
    "#Adding one fully connected layer.\n",
    "model_2layer.add(Flatten())\n",
    "\n",
    "#Adding one dense layer.\n",
    "model_2layer.add(Dense(128, activation='relu'))\n",
    "model_2layer.add(Dense(count_classes, activation='softmax'))\n",
    "\n",
    "#Compiling the model.\n",
    "model_2layer.compile(loss=keras.losses.categorical_crossentropy,\n",
    "              optimizer=Adam(lr=learn_rate),\n",
    "              metrics=['accuracy'])"
   ]
  },
  {
   "cell_type": "markdown",
   "metadata": {},
   "source": [
    "Viewing a tabular summary of the model:"
   ]
  },
  {
   "cell_type": "code",
   "execution_count": 23,
   "metadata": {},
   "outputs": [
    {
     "name": "stdout",
     "output_type": "stream",
     "text": [
      "_________________________________________________________________\n",
      "Layer (type)                 Output Shape              Param #   \n",
      "=================================================================\n",
      "input_2 (InputLayer)         (None, 28, 28, 1)         0         \n",
      "_________________________________________________________________\n",
      "layer_conv_1 (Conv2D)        (None, 28, 28, 16)        160       \n",
      "_________________________________________________________________\n",
      "layer_conv_2 (Conv2D)        (None, 28, 28, 32)        12832     \n",
      "_________________________________________________________________\n",
      "max_pooling2d_2 (MaxPooling2 (None, 14, 14, 32)        0         \n",
      "_________________________________________________________________\n",
      "flatten_2 (Flatten)          (None, 6272)              0         \n",
      "_________________________________________________________________\n",
      "dense_3 (Dense)              (None, 128)               802944    \n",
      "_________________________________________________________________\n",
      "dense_4 (Dense)              (None, 10)                1290      \n",
      "=================================================================\n",
      "Total params: 817,226\n",
      "Trainable params: 817,226\n",
      "Non-trainable params: 0\n",
      "_________________________________________________________________\n"
     ]
    }
   ],
   "source": [
    "model_2layer.summary()"
   ]
  },
  {
   "cell_type": "markdown",
   "metadata": {},
   "source": [
    "Training a model on the training set and testing its accuracy on the validation set.\n",
    "\n",
    "A small batch size is being used, with epochs = 3 to enable the model to traverse the data multiple times for better accuracy."
   ]
  },
  {
   "cell_type": "code",
   "execution_count": 24,
   "metadata": {},
   "outputs": [
    {
     "name": "stdout",
     "output_type": "stream",
     "text": [
      "Train on 55000 samples, validate on 5000 samples\n",
      "Epoch 1/3\n",
      "55000/55000 [==============================] - 1404s 26ms/step - loss: 0.5569 - acc: 0.8069 - val_loss: 0.3888 - val_acc: 0.8592\n",
      "Epoch 2/3\n",
      "55000/55000 [==============================] - 1390s 25ms/step - loss: 0.3721 - acc: 0.8699 - val_loss: 0.3342 - val_acc: 0.8784\n",
      "Epoch 3/3\n",
      "55000/55000 [==============================] - 1394s 25ms/step - loss: 0.3251 - acc: 0.8857 - val_loss: 0.3019 - val_acc: 0.8878\n",
      "Test loss: 0.3302122708559036\n",
      "Test accuracy: 0.8826\n"
     ]
    }
   ],
   "source": [
    "#Fitting the model on training and testing data.\n",
    "model_2layer.fit(X_train, y_train,\n",
    "                  batch_size=32,\n",
    "                  epochs=3,\n",
    "                  verbose=1,\n",
    "                  validation_data=(X_val, y_val))\n",
    "\n",
    "#Scoring the model on the test data.\n",
    "score = model_2layer.evaluate(X_test, y_test, verbose=0)\n",
    "\n",
    "#Printing the score and accuracy:\n",
    "print('Test loss:', score[0])\n",
    "print('Test accuracy:', score[1])"
   ]
  },
  {
   "cell_type": "markdown",
   "metadata": {},
   "source": [
    "As can be seen from the above output, the training accuracy keeps increasing with more epochs, but the validation accuracy reaches a peak and does not increase by much after that. The test set accuracy is similar to the validation set accuracy. The test set now needs to be tested on the model."
   ]
  },
  {
   "cell_type": "markdown",
   "metadata": {},
   "source": [
    "Making predictions based on the test set:"
   ]
  },
  {
   "cell_type": "code",
   "execution_count": 25,
   "metadata": {},
   "outputs": [],
   "source": [
    "y_pred = model_2layer.predict_classes(x=X_test)"
   ]
  },
  {
   "cell_type": "markdown",
   "metadata": {},
   "source": [
    "Plotting the first 9 images in the test set along with their predictions:"
   ]
  },
  {
   "cell_type": "code",
   "execution_count": 26,
   "metadata": {},
   "outputs": [
    {
     "name": "stdout",
     "output_type": "stream",
     "text": [
      "Select the first 9 images\n"
     ]
    },
    {
     "data": {
      "image/png": "[encoded data removed]",
      "text/plain": [
       "<Figure size 432x288 with 9 Axes>"
      ]
     },
     "metadata": {},
     "output_type": "display_data"
    }
   ],
   "source": [
    "plot_images(X_test, y_test_vec, y_pred)"
   ]
  },
  {
   "cell_type": "markdown",
   "metadata": {},
   "source": [
    "Creating a function to plot misclassified images:"
   ]
  },
  {
   "cell_type": "code",
   "execution_count": 27,
   "metadata": {},
   "outputs": [],
   "source": [
    "def plot_example_errors(images, label, pred):\n",
    "    #Checking for misclassification and creating indexes for such images.\n",
    "    incorrect = (label != pred)\n",
    "    \n",
    "    #Assigning the indexes to the images.\n",
    "    images = images[incorrect,:,:,:]\n",
    "    label = label[incorrect]\n",
    "    pred = pred[incorrect]\n",
    "    \n",
    "    #Using the plot_images function to plot the first 9 misclassified images.\n",
    "    plot_images(images, label, pred)"
   ]
  },
  {
   "cell_type": "markdown",
   "metadata": {},
   "source": [
    "Plotting a few mismatched images to investigate the shortcomings of the model:"
   ]
  },
  {
   "cell_type": "code",
   "execution_count": 28,
   "metadata": {},
   "outputs": [
    {
     "name": "stdout",
     "output_type": "stream",
     "text": [
      "Select the first 9 images\n"
     ]
    },
    {
     "data": {
      "image/png": "[encoded data removed]",
      "text/plain": [
       "<Figure size 432x288 with 9 Axes>"
      ]
     },
     "metadata": {},
     "output_type": "display_data"
    }
   ],
   "source": [
    "plot_example_errors(X_test, y_test_vec, y_pred)"
   ]
  },
  {
   "cell_type": "markdown",
   "metadata": {},
   "source": [
    "It can be seen that most mismatches are between shirts, t-shirts and coats, since they look quite similar. This is especially true for given data, since the images are not high resolution, and are also black and white. One possible solution to this is to increase the number of epochs for the model, so that the data can be traversed more times, allowing the model to better distinguish small details between images."
   ]
  },
  {
   "cell_type": "markdown",
   "metadata": {},
   "source": [
    "Saving the model:"
   ]
  },
  {
   "cell_type": "code",
   "execution_count": 205,
   "metadata": {
    "scrolled": true
   },
   "outputs": [
    {
     "name": "stdout",
     "output_type": "stream",
     "text": [
      "Model saved at location: \n",
      " C:/Users/Pulkit Dixit/Desktop/STAT 578/HW2/\n"
     ]
    }
   ],
   "source": [
    "#Creating variables to store the path and filename of the model.\n",
    "save_loc = 'C:/Users/Pulkit Dixit/Desktop/STAT 578/HW2/'\n",
    "model_name = '2layer_model_q3.keras'\n",
    "\n",
    "#Checking for existence of the path. If the path doesn't exist,\n",
    "#it will be created.\n",
    "if not os.path.exists(save_loc):\n",
    "    os.mkdir(save_loc)\n",
    "\n",
    "#Saving the model and printing its location.\n",
    "model_path = os.path.join(save_loc, model_name)\n",
    "model_2layer.save(model_path)\n",
    "print('Model saved at location: \\n', save_loc)"
   ]
  },
  {
   "cell_type": "markdown",
   "metadata": {},
   "source": [
    "================================================================================================"
   ]
  }
 ],
 "metadata": {
  "kernelspec": {
   "display_name": "Python 3",
   "language": "python",
   "name": "python3"
  },
  "language_info": {
   "codemirror_mode": {
    "name": "ipython",
    "version": 3
   },
   "file_extension": ".py",
   "mimetype": "text/x-python",
   "name": "python",
   "nbconvert_exporter": "python",
   "pygments_lexer": "ipython3",
   "version": "3.6.4"
  }
 },
 "nbformat": 4,
 "nbformat_minor": 2
}
